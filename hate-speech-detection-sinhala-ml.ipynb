{
  "nbformat": 4,
  "nbformat_minor": 0,
  "metadata": {
    "colab": {
      "name": "hate-speech-detection-sinhala-ml.ipynb",
      "provenance": [],
      "collapsed_sections": []
    },
    "kernelspec": {
      "name": "python3",
      "display_name": "Python 3"
    },
    "language_info": {
      "name": "python"
    }
  },
  "cells": [
    {
      "cell_type": "code",
      "metadata": {
        "colab": {
          "base_uri": "https://localhost:8080/"
        },
        "id": "SVtf8VljfAWm",
        "outputId": "16878d93-6a2d-4c24-b80c-9d0d67c93bca"
      },
      "source": [
        "! pip install fasttext"
      ],
      "execution_count": null,
      "outputs": [
        {
          "output_type": "stream",
          "text": [
            "Requirement already satisfied: fasttext in /usr/local/lib/python3.7/dist-packages (0.9.2)\n",
            "Requirement already satisfied: numpy in /usr/local/lib/python3.7/dist-packages (from fasttext) (1.19.5)\n",
            "Requirement already satisfied: pybind11>=2.2 in /usr/local/lib/python3.7/dist-packages (from fasttext) (2.6.2)\n",
            "Requirement already satisfied: setuptools>=0.7.0 in /usr/local/lib/python3.7/dist-packages (from fasttext) (57.0.0)\n"
          ],
          "name": "stdout"
        }
      ]
    },
    {
      "cell_type": "code",
      "metadata": {
        "id": "1s4A--cNtElw"
      },
      "source": [
        "import tensorflow as tf\n",
        "import csv\n",
        "import random\n",
        "import numpy as np\n",
        "import pandas as pd\n",
        "import io\n",
        "import gzip\n",
        "\n",
        "from tensorflow.keras.preprocessing.text import Tokenizer\n",
        "from tensorflow.keras.preprocessing.sequence import pad_sequences\n",
        "from tensorflow.keras.utils import to_categorical\n",
        "from tensorflow.keras.regularizers import l2\n",
        "\n",
        "import fasttext\n",
        "import fasttext.util\n",
        "\n",
        "import sys\n",
        "\n",
        "from sklearn.model_selection import train_test_split\n",
        "\n",
        "from sklearn.decomposition import PCA\n",
        "\n",
        "from sklearn.svm import SVC\n",
        "from sklearn.naive_bayes import GaussianNB\n",
        "from sklearn.neighbors import KNeighborsClassifier\n",
        "from sklearn.tree import DecisionTreeClassifier\n",
        "from sklearn.linear_model import LogisticRegression\n",
        "\n",
        "import time"
      ],
      "execution_count": null,
      "outputs": []
    },
    {
      "cell_type": "code",
      "metadata": {
        "id": "LZHjspiujqpq"
      },
      "source": [
        "np.set_printoptions(threshold=sys.maxsize)"
      ],
      "execution_count": null,
      "outputs": []
    },
    {
      "cell_type": "code",
      "metadata": {
        "id": "TbIYrV6ltSZh",
        "colab": {
          "base_uri": "https://localhost:8080/"
        },
        "outputId": "ffdda69f-df19-420b-84e4-9e65117a775d"
      },
      "source": [
        "from google.colab import drive\n",
        "drive.mount('/content/drive')"
      ],
      "execution_count": null,
      "outputs": [
        {
          "output_type": "stream",
          "text": [
            "Drive already mounted at /content/drive; to attempt to forcibly remount, call drive.mount(\"/content/drive\", force_remount=True).\n"
          ],
          "name": "stdout"
        }
      ]
    },
    {
      "cell_type": "code",
      "metadata": {
        "colab": {
          "base_uri": "https://localhost:8080/"
        },
        "id": "94nUwEMEt43i",
        "outputId": "30556246-cdeb-44a1-dcba-953811f39e9a"
      },
      "source": [
        "!wget https://dl.fbaipublicfiles.com/fasttext/vectors-crawl/cc.si.300.vec.gz\n",
        "!wget https://dl.fbaipublicfiles.com/fasttext/vectors-crawl/cc.si.300.bin.gz"
      ],
      "execution_count": null,
      "outputs": [
        {
          "output_type": "stream",
          "text": [
            "--2021-06-10 19:16:57--  https://dl.fbaipublicfiles.com/fasttext/vectors-crawl/cc.si.300.vec.gz\n",
            "Resolving dl.fbaipublicfiles.com (dl.fbaipublicfiles.com)... 104.22.75.142, 104.22.74.142, 172.67.9.4, ...\n",
            "Connecting to dl.fbaipublicfiles.com (dl.fbaipublicfiles.com)|104.22.75.142|:443... connected.\n",
            "HTTP request sent, awaiting response... 200 OK\n",
            "Length: 481477801 (459M) [binary/octet-stream]\n",
            "Saving to: ‘cc.si.300.vec.gz.1’\n",
            "\n",
            "cc.si.300.vec.gz.1  100%[===================>] 459.17M  19.6MB/s    in 24s     \n",
            "\n",
            "2021-06-10 19:17:22 (19.0 MB/s) - ‘cc.si.300.vec.gz.1’ saved [481477801/481477801]\n",
            "\n",
            "--2021-06-10 19:17:22--  https://dl.fbaipublicfiles.com/fasttext/vectors-crawl/cc.si.300.bin.gz\n",
            "Resolving dl.fbaipublicfiles.com (dl.fbaipublicfiles.com)... 104.22.75.142, 172.67.9.4, 104.22.74.142, ...\n",
            "Connecting to dl.fbaipublicfiles.com (dl.fbaipublicfiles.com)|104.22.75.142|:443... connected.\n",
            "HTTP request sent, awaiting response... 200 OK\n",
            "Length: 3181346570 (3.0G) [application/octet-stream]\n",
            "Saving to: ‘cc.si.300.bin.gz’\n",
            "\n",
            "cc.si.300.bin.gz    100%[===================>]   2.96G  19.9MB/s    in 2m 35s  \n",
            "\n",
            "2021-06-10 19:19:58 (19.5 MB/s) - ‘cc.si.300.bin.gz’ saved [3181346570/3181346570]\n",
            "\n"
          ],
          "name": "stdout"
        }
      ]
    },
    {
      "cell_type": "code",
      "metadata": {
        "id": "jvhyXkCvt_T7",
        "colab": {
          "base_uri": "https://localhost:8080/"
        },
        "outputId": "a87c68bd-76db-4463-d13d-beffe85cae48"
      },
      "source": [
        "!gzip -d cc.si.300.bin.gz"
      ],
      "execution_count": null,
      "outputs": [
        {
          "output_type": "stream",
          "text": [
            "gzip: cc.si.300.bin already exists; do you wish to overwrite (y or n)? n\n",
            "\tnot overwritten\n"
          ],
          "name": "stdout"
        }
      ]
    },
    {
      "cell_type": "code",
      "metadata": {
        "colab": {
          "base_uri": "https://localhost:8080/"
        },
        "id": "3yfLjVsh39Br",
        "outputId": "e19c6e5f-c953-47a7-d643-5d7fe0e16b4d"
      },
      "source": [
        "ft = fasttext.load_model('/content/cc.si.300.bin')\n",
        "ft.get_dimension()"
      ],
      "execution_count": null,
      "outputs": [
        {
          "output_type": "stream",
          "text": [
            "Warning : `load_model` does not return WordVectorModel or SupervisedModel any more, but a `FastText` object which is very similar.\n"
          ],
          "name": "stderr"
        },
        {
          "output_type": "execute_result",
          "data": {
            "text/plain": [
              "300"
            ]
          },
          "metadata": {
            "tags": []
          },
          "execution_count": 7
        }
      ]
    },
    {
      "cell_type": "code",
      "metadata": {
        "colab": {
          "base_uri": "https://localhost:8080/"
        },
        "id": "CT30FgHIuD6P",
        "outputId": "3ed43488-6cb8-405f-e62a-2e86e86bcd16"
      },
      "source": [
        "dataset = []\n",
        "with open(\"/content/drive/MyDrive/sinhala-hate-speech-dataset.csv\") as csvfile:\n",
        "    reader = csv.reader(csvfile, delimiter=',')\n",
        "    for row in reader:\n",
        "      label = row[2]\n",
        "      post = row[1]\n",
        "      item = []\n",
        "      item.append(post)\n",
        "      if label == '0':\n",
        "        item.append(0)\n",
        "      elif label == '1':\n",
        "        item.append(1)\n",
        "      else:\n",
        "        print('ERROR') \n",
        "        continue  \n",
        "      dataset.append(item)"
      ],
      "execution_count": null,
      "outputs": [
        {
          "output_type": "stream",
          "text": [
            "ERROR\n"
          ],
          "name": "stdout"
        }
      ]
    },
    {
      "cell_type": "code",
      "metadata": {
        "colab": {
          "base_uri": "https://localhost:8080/"
        },
        "id": "gWRKIDkKu-Cy",
        "outputId": "d092910e-be82-49bd-b380-fe36a51842b4"
      },
      "source": [
        "len(dataset)"
      ],
      "execution_count": null,
      "outputs": [
        {
          "output_type": "execute_result",
          "data": {
            "text/plain": [
              "6345"
            ]
          },
          "metadata": {
            "tags": []
          },
          "execution_count": 9
        }
      ]
    },
    {
      "cell_type": "code",
      "metadata": {
        "id": "SE6zeNiyvBlP"
      },
      "source": [
        "posts=[]\n",
        "labels=[]\n",
        "for x in range(len(dataset)):\n",
        "    posts.append(dataset[x][0])\n",
        "    labels.append(dataset[x][1])"
      ],
      "execution_count": null,
      "outputs": []
    },
    {
      "cell_type": "code",
      "metadata": {
        "id": "VTQAaXCzzvM-"
      },
      "source": [
        "vocab_size = 10000\n",
        "embedding_dim = 300\n",
        "max_length = 120\n",
        "trunc_type='post'\n",
        "oov_tok = \"<OOV>\"\n",
        "\n",
        "tokenizer = Tokenizer(num_words = vocab_size, oov_token=\"<OOV>\")\n",
        "tokenizer.fit_on_texts(posts)\n",
        "\n",
        "word_index = tokenizer.word_index\n",
        "vocab_size=len(word_index)\n",
        "\n",
        "sequences = tokenizer.texts_to_sequences(posts)\n",
        "padded_sequences = pad_sequences(sequences, maxlen=max_length, truncating=trunc_type)"
      ],
      "execution_count": null,
      "outputs": []
    },
    {
      "cell_type": "code",
      "metadata": {
        "id": "A8qxCo_-3CWA"
      },
      "source": [
        "embeddings_matrix = np.zeros((vocab_size+1, embedding_dim));\n",
        "for word, i in word_index.items():\n",
        "    embedding_vector = ft.get_word_vector(word)\n",
        "    if embedding_vector is not None:\n",
        "        embeddings_matrix[i] = embedding_vector;"
      ],
      "execution_count": null,
      "outputs": []
    },
    {
      "cell_type": "code",
      "metadata": {
        "id": "k3FhaPOFndwc"
      },
      "source": [
        "x_vecs = np.asarray([embeddings_matrix[seq].flatten() for seq in padded_sequences])"
      ],
      "execution_count": null,
      "outputs": []
    },
    {
      "cell_type": "code",
      "metadata": {
        "colab": {
          "base_uri": "https://localhost:8080/"
        },
        "id": "6_1o1N9dpaQC",
        "outputId": "457477c9-5d4a-43d7-8810-48fcb3452331"
      },
      "source": [
        "print(x_vecs.shape)"
      ],
      "execution_count": null,
      "outputs": [
        {
          "output_type": "stream",
          "text": [
            "(6345, 36000)\n"
          ],
          "name": "stdout"
        }
      ]
    },
    {
      "cell_type": "code",
      "metadata": {
        "colab": {
          "base_uri": "https://localhost:8080/"
        },
        "id": "mUhGTQYNqMPN",
        "outputId": "bf94b75f-7335-4dda-88f7-0817a09c220a"
      },
      "source": [
        "pca_model = PCA(n_components=1800)\n",
        "pca_model.fit(x_vecs)\n",
        "print(\"Sum of variance ratios: \",sum(pca_model.explained_variance_ratio_))"
      ],
      "execution_count": null,
      "outputs": [
        {
          "output_type": "stream",
          "text": [
            "Sum of variance ratios:  0.9327295275202638\n"
          ],
          "name": "stdout"
        }
      ]
    },
    {
      "cell_type": "code",
      "metadata": {
        "id": "6DhNZPl5ttT7"
      },
      "source": [
        "x_comps = pca_model.transform(x_vecs)"
      ],
      "execution_count": null,
      "outputs": []
    },
    {
      "cell_type": "code",
      "metadata": {
        "id": "2170EJLat4Tr"
      },
      "source": [
        "x_train,x_test,y_train,y_test = train_test_split(x_comps, labels ,test_size=0.2, random_state=42)"
      ],
      "execution_count": null,
      "outputs": []
    },
    {
      "cell_type": "code",
      "metadata": {
        "colab": {
          "base_uri": "https://localhost:8080/"
        },
        "id": "XkXe7UKvqmr3",
        "outputId": "67441fcb-2de6-4611-88db-db7117ffcd93"
      },
      "source": [
        "start = time.time() \n",
        "\n",
        "svm_classifier = SVC()\n",
        "svm_classifier.fit(x_train,y_train)\n",
        "\n",
        "end = time.time()\n",
        "process = round(end-start,2)\n",
        "print(\"Support Vector Machine Classifier has fitted, this process took {} seconds\".format(process))"
      ],
      "execution_count": null,
      "outputs": [
        {
          "output_type": "stream",
          "text": [
            "Support Vector Machine Classifier has fitted, this process took 58.16 seconds\n"
          ],
          "name": "stdout"
        }
      ]
    },
    {
      "cell_type": "code",
      "metadata": {
        "colab": {
          "base_uri": "https://localhost:8080/"
        },
        "id": "lO8GshQ2uNEW",
        "outputId": "0e058323-666b-4c24-a5d8-7388d477ed3f"
      },
      "source": [
        "svm_classifier.score(x_test,y_test)"
      ],
      "execution_count": null,
      "outputs": [
        {
          "output_type": "execute_result",
          "data": {
            "text/plain": [
              "0.7919621749408984"
            ]
          },
          "metadata": {
            "tags": []
          },
          "execution_count": 19
        }
      ]
    },
    {
      "cell_type": "code",
      "metadata": {
        "colab": {
          "base_uri": "https://localhost:8080/"
        },
        "id": "C0f8xNll65u7",
        "outputId": "766d8315-a3a7-4ca6-aada-f38eb13bd04c"
      },
      "source": [
        "start = time.time() \n",
        "\n",
        "naive_bayes_classifier = GaussianNB()\n",
        "naive_bayes_classifier.fit(x_train,y_train)\n",
        "\n",
        "end = time.time()\n",
        "process = round(end-start,2)\n",
        "print(\"Naive Bayes Classifier has fitted, this process took {} seconds\".format(process))"
      ],
      "execution_count": null,
      "outputs": [
        {
          "output_type": "stream",
          "text": [
            "Naive Bayes Classifier has fitted, this process took 0.15 seconds\n"
          ],
          "name": "stdout"
        }
      ]
    },
    {
      "cell_type": "code",
      "metadata": {
        "colab": {
          "base_uri": "https://localhost:8080/"
        },
        "id": "CiOGXrj27ViB",
        "outputId": "a6c3ffeb-f5f6-476d-b022-89845bc5b2d0"
      },
      "source": [
        "naive_bayes_classifier.score(x_test,y_test)"
      ],
      "execution_count": null,
      "outputs": [
        {
          "output_type": "execute_result",
          "data": {
            "text/plain": [
              "0.5697399527186762"
            ]
          },
          "metadata": {
            "tags": []
          },
          "execution_count": 21
        }
      ]
    },
    {
      "cell_type": "code",
      "metadata": {
        "colab": {
          "base_uri": "https://localhost:8080/"
        },
        "id": "YZGTx17G9oQY",
        "outputId": "689f19be-c9dd-46d1-8fe7-e141d9d524cb"
      },
      "source": [
        "start = time.time() \n",
        "\n",
        "k_neighbors_classifier = KNeighborsClassifier(n_neighbors=5)\n",
        "k_neighbors_classifier.fit(x_train,y_train)\n",
        "\n",
        "end = time.time()\n",
        "process = round(end-start,2)\n",
        "print(\"K Neighbors Classifier has fitted, this process took {} seconds\".format(process))"
      ],
      "execution_count": null,
      "outputs": [
        {
          "output_type": "stream",
          "text": [
            "K Neighbors Classifier has fitted, this process took 1.17 seconds\n"
          ],
          "name": "stdout"
        }
      ]
    },
    {
      "cell_type": "code",
      "metadata": {
        "colab": {
          "base_uri": "https://localhost:8080/"
        },
        "id": "g52mcH3b9oBW",
        "outputId": "2ae18c1f-670e-49e4-9dfa-ee6dab9af585"
      },
      "source": [
        "k_neighbors_classifier.score(x_test,y_test)"
      ],
      "execution_count": null,
      "outputs": [
        {
          "output_type": "execute_result",
          "data": {
            "text/plain": [
              "0.7139479905437353"
            ]
          },
          "metadata": {
            "tags": []
          },
          "execution_count": 23
        }
      ]
    },
    {
      "cell_type": "code",
      "metadata": {
        "colab": {
          "base_uri": "https://localhost:8080/"
        },
        "id": "G_BjZYd0-d4R",
        "outputId": "d266b523-340c-4b40-9537-98cc7f193af5"
      },
      "source": [
        "start = time.time() \n",
        "\n",
        "logistic_regression_classifier = LogisticRegression()\n",
        "logistic_regression_classifier.fit(x_train,y_train)\n",
        "\n",
        "end = time.time()\n",
        "process = round(end-start,2)\n",
        "print(\"Logistic Regression Classifier has fitted, this process took {} seconds\".format(process))"
      ],
      "execution_count": null,
      "outputs": [
        {
          "output_type": "stream",
          "text": [
            "Logistic Regression Classifier has fitted, this process took 1.01 seconds\n"
          ],
          "name": "stdout"
        }
      ]
    },
    {
      "cell_type": "code",
      "metadata": {
        "colab": {
          "base_uri": "https://localhost:8080/"
        },
        "id": "RaptjiJZ-loJ",
        "outputId": "77217635-57ad-498f-e770-a3f54dac761f"
      },
      "source": [
        "logistic_regression_classifier.score(x_test,y_test)"
      ],
      "execution_count": null,
      "outputs": [
        {
          "output_type": "execute_result",
          "data": {
            "text/plain": [
              "0.817966903073286"
            ]
          },
          "metadata": {
            "tags": []
          },
          "execution_count": 25
        }
      ]
    },
    {
      "cell_type": "code",
      "metadata": {
        "colab": {
          "base_uri": "https://localhost:8080/"
        },
        "id": "iiJKZQah-yHR",
        "outputId": "ab3cbe27-00f8-448b-97d8-efe03fc15d9a"
      },
      "source": [
        "start = time.time() \n",
        "\n",
        "decision_tree_classifier = DecisionTreeClassifier()\n",
        "decision_tree_classifier.fit(x_train,y_train)\n",
        "\n",
        "end = time.time()\n",
        "process = round(end-start,2)\n",
        "print(\"Decision Tree Classifier has fitted, this process took {} seconds\".format(process))"
      ],
      "execution_count": null,
      "outputs": [
        {
          "output_type": "stream",
          "text": [
            "Decision Tree Classifier has fitted, this process took 11.81 seconds\n"
          ],
          "name": "stdout"
        }
      ]
    },
    {
      "cell_type": "code",
      "metadata": {
        "colab": {
          "base_uri": "https://localhost:8080/"
        },
        "id": "AFM364NH-x4Y",
        "outputId": "135f2b82-eb5f-483a-c084-6cf0b3a01481"
      },
      "source": [
        "decision_tree_classifier.score(x_test,y_test)"
      ],
      "execution_count": null,
      "outputs": [
        {
          "output_type": "execute_result",
          "data": {
            "text/plain": [
              "0.6635145784081954"
            ]
          },
          "metadata": {
            "tags": []
          },
          "execution_count": 27
        }
      ]
    },
    {
      "cell_type": "code",
      "metadata": {
        "id": "CWufi-9d4YCg"
      },
      "source": [
        "#testing model with sample text\n",
        "def hate_speech(post, classifier, embeddings_matrix, pca_model):\n",
        "  post_sequence = tokenizer.texts_to_sequences(post)\n",
        "  padded_post_sequence = pad_sequences(post_sequence, \n",
        "                                       maxlen=max_length, \n",
        "                                       truncating=trunc_type)\n",
        "  x_vec = np.asarray([embeddings_matrix[padded_post_sequence].flatten()])\n",
        "  x_comp = pca_model.transform(x_vec)\n",
        "  post_prediction = classifier.predict(x_comp)\n",
        "  label = post_prediction.round().item()\n",
        "  if label == 0:\n",
        "    print(\"%s : This is NOT Hate speech\" % post)\n",
        "  elif label == 1:\n",
        "    print(\"%s : This is Hate speech\" % post)"
      ],
      "execution_count": null,
      "outputs": []
    },
    {
      "cell_type": "code",
      "metadata": {
        "colab": {
          "base_uri": "https://localhost:8080/"
        },
        "id": "_j1SHcx-E0r7",
        "outputId": "90ac294b-ced9-4248-df36-47e88f808bf4"
      },
      "source": [
        "hate_speech(['පලයන් තම්බියා'], logistic_regression_classifier, embeddings_matrix, pca_model)"
      ],
      "execution_count": null,
      "outputs": [
        {
          "output_type": "stream",
          "text": [
            "['පලයන් තම්බියා'] : This is Hate speech\n"
          ],
          "name": "stdout"
        }
      ]
    }
  ]
}